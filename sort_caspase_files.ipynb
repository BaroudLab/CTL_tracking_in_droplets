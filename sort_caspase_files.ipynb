{
 "cells": [
  {
   "cell_type": "code",
   "execution_count": 1,
   "metadata": {},
   "outputs": [],
   "source": [
    "import pandas\n",
    "import numpy as np\n",
    "import os\n",
    "from pathlib import Path\n",
    "\n",
    "from tqdm.notebook import tqdm"
   ]
  },
  {
   "cell_type": "code",
   "execution_count": 8,
   "metadata": {},
   "outputs": [],
   "source": [
    "import glob\n",
    "from shutil import copyfile\n",
    "\n",
    "img_path = r'/home/pub/Documents/mnt/Shreyansh/20200804/B16OVA_OT1/'\n",
    "dest_path = r'/home/pub/Documents/mnt/Gustave/MIOCS_code/image_analysis/example_images'\n",
    "\n",
    "time_range = np.arange(400,410,1)\n",
    "color_range = [1,2]\n",
    "m = 20\n",
    "\n",
    "for t in time_range:\n",
    "    for c in color_range:\n",
    "\n",
    "        fname = f'c{c:01d}t{t:03d}m{m:02d}.tif'\n",
    "        copyfile(os.path.join(img_path, fname), \n",
    "                 os.path.join(dest_path, fname))\n",
    "\n"
   ]
  },
  {
   "cell_type": "code",
   "execution_count": 8,
   "metadata": {},
   "outputs": [],
   "source": [
    "img_path = r'/Volumes/Multicell/Shreyansh/20200312/TIFF'\n",
    "save_path = r'/Volumes/Multicell/Shreyansh/20200312'\n",
    "\n",
    "def make_img_folder(img_path, save_path):\n",
    "    \n",
    "    new_folder = os.path.join(save_path, 'imges')\n",
    "    \n",
    "    Path(new_folder).mkdir(parents=True, exist_ok=True)\n",
    "    \n",
    "    for file in tqdm(sorted(os.listdir(img_path))):\n",
    "\n",
    "        file_name, _ = file.split('.')\n",
    "\n",
    "        _, m = file_name.split('xy')\n",
    "        m, c = m.split('c')\n",
    "        c, t = c.split('t')\n",
    "                \n",
    "        m = int(m)\n",
    "        t = int(t)\n",
    "        c = int(c)\n",
    "\n",
    "        fname = f'm{m:02d}t{t:02d}c{c}.tif'\n",
    "        \n",
    "        if fname not in os.listdir(new_folder):\n",
    "\n",
    "            os.rename(os.path.join(img_path, file),\n",
    "                        os.path.join(new_folder, fname))\n",
    "            \n",
    "    return"
   ]
  },
  {
   "cell_type": "code",
   "execution_count": null,
   "metadata": {},
   "outputs": [
    {
     "data": {
      "application/vnd.jupyter.widget-view+json": {
       "model_id": "080e626a5eb3452ca2d7db799fca157f",
       "version_major": 2,
       "version_minor": 0
      },
      "text/plain": [
       "HBox(children=(IntProgress(value=0, max=9659), HTML(value='')))"
      ]
     },
     "metadata": {},
     "output_type": "display_data"
    }
   ],
   "source": [
    "make_img_folder(img_path,save_path)"
   ]
  },
  {
   "cell_type": "markdown",
   "metadata": {},
   "source": [
    "## Preparing the local environment"
   ]
  },
  {
   "cell_type": "code",
   "execution_count": null,
   "metadata": {},
   "outputs": [],
   "source": [
    "import sys\n",
    "\n",
    "sys.path.insert(0,'./image-analysis/api')"
   ]
  },
  {
   "cell_type": "code",
   "execution_count": null,
   "metadata": {},
   "outputs": [],
   "source": [
    "from api import read\n",
    "from api import segment\n",
    "from api import analyse"
   ]
  },
  {
   "cell_type": "code",
   "execution_count": null,
   "metadata": {},
   "outputs": [],
   "source": [
    "import api.segment as segment"
   ]
  },
  {
   "cell_type": "markdown",
   "metadata": {},
   "source": [
    "## Get the virtual stack"
   ]
  },
  {
   "cell_type": "code",
   "execution_count": null,
   "metadata": {},
   "outputs": [],
   "source": [
    "img_path = r'/Users/gustaveronteix/Documents/Projets/Projets Code/imges_test_image_analysis/imges'"
   ]
  },
  {
   "cell_type": "code",
   "execution_count": null,
   "metadata": {},
   "outputs": [],
   "source": [
    "vs = read.VirtualStack(img_path)"
   ]
  },
  {
   "cell_type": "code",
   "execution_count": null,
   "metadata": {},
   "outputs": [],
   "source": [
    "vs.ranges['t']['max']"
   ]
  },
  {
   "cell_type": "code",
   "execution_count": null,
   "metadata": {},
   "outputs": [],
   "source": [
    "c1_time_reader = vs.read(t = None, m = None, c = 1)\n",
    "c2_time_reader = vs.read(t = None, m = None, c = 2)"
   ]
  },
  {
   "cell_type": "code",
   "execution_count": null,
   "metadata": {},
   "outputs": [],
   "source": [
    "import matplotlib.pyplot as plt\n",
    "\n",
    "from api.segment import segment\n",
    "from api.analyse import analyse"
   ]
  },
  {
   "cell_type": "code",
   "execution_count": null,
   "metadata": {},
   "outputs": [],
   "source": [
    "img_fluo = vs.get_single_image(m=10, t=315, c=2)\n",
    "img_BF = vs.get_single_image(m=10, t=315, c=1)"
   ]
  },
  {
   "cell_type": "code",
   "execution_count": null,
   "metadata": {},
   "outputs": [],
   "source": [
    "crop_img_BF = segment.select_well(img_BF.array, img_BF.array, 430, 430, 3)\n",
    "crop_img_Fluo = segment.select_well(img_BF.array, img_fluo.array, 430, 430, 3)"
   ]
  },
  {
   "cell_type": "code",
   "execution_count": null,
   "metadata": {},
   "outputs": [],
   "source": [
    "sph_img = segment.find_spheroid(crop_img_BF, 430, 3)"
   ]
  },
  {
   "cell_type": "code",
   "execution_count": null,
   "metadata": {},
   "outputs": [],
   "source": [
    "df = pandas.DataFrame()\n",
    "\n",
    "for img in c1_time_reader:\n",
    "        \n",
    "    t = img.meta['t']\n",
    "    m = img.meta['m']\n",
    "\n",
    "    img_fluo = vs.get_single_image(m=m, t=t, c=2)\n",
    "    \n",
    "    crop_img_BF = segment.select_well(img.array, img.array, 430, 430, 3)\n",
    "    crop_img_Fluo = segment.select_well(img.array, img.array, 430, 430, 3)\n",
    "        \n",
    "    sph_img = segment.find_spheroid(crop_img_BF, 430, 3)\n",
    "    \n",
    "    \n",
    "    timeFrame = analyse.spheroid_properties(sph_img)\n",
    "    timeFrame['t'] = t\n",
    "    timeFrame['m'] = m\n",
    "    \n",
    "    df = df.append(timeFrame)"
   ]
  }
 ],
 "metadata": {
  "kernelspec": {
   "display_name": "Python 3",
   "language": "python",
   "name": "python3"
  },
  "language_info": {
   "codemirror_mode": {
    "name": "ipython",
    "version": 3
   },
   "file_extension": ".py",
   "mimetype": "text/x-python",
   "name": "python",
   "nbconvert_exporter": "python",
   "pygments_lexer": "ipython3",
   "version": "3.8.3-final"
  }
 },
 "nbformat": 4,
 "nbformat_minor": 2
}