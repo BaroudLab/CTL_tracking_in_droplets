{
 "cells": [
  {
   "cell_type": "code",
   "execution_count": 1,
   "metadata": {},
   "outputs": [],
   "source": [
    "import pandas\n",
    "import numpy as np\n",
    "import os\n",
    "from pathlib import Path\n",
    "\n",
    "from tqdm.notebook import tqdm"
   ]
  },
  {
   "cell_type": "markdown",
   "metadata": {},
   "source": [
    "## Preparing the local environment\n",
    "\n",
    "Do not forget to launch the kernel in the \"ia\" environment by typing\n",
    "\n",
    "`conda activate ia`\n",
    "\n",
    "in the terminal before launching jupyter."
   ]
  },
  {
   "cell_type": "code",
   "execution_count": 2,
   "metadata": {},
   "outputs": [],
   "source": [
    "import sys\n",
    "sys.path.insert(0,os.path.join(os.getcwd(),'image-analysis'))"
   ]
  },
  {
   "cell_type": "code",
   "execution_count": 3,
   "metadata": {},
   "outputs": [],
   "source": [
    "from api import read"
   ]
  },
  {
   "cell_type": "code",
   "execution_count": 4,
   "metadata": {},
   "outputs": [],
   "source": [
    "from api.segment import segment\n",
    "from api.segment import verify_segmentation\n",
    "from api.analyse import analyse\n",
    "from api import track"
   ]
  },
  {
   "cell_type": "code",
   "execution_count": 5,
   "metadata": {},
   "outputs": [],
   "source": [
    "import matplotlib.pyplot as plt"
   ]
  },
  {
   "cell_type": "markdown",
   "metadata": {},
   "source": [
    "## Get the virtual stack"
   ]
  },
  {
   "cell_type": "code",
   "execution_count": 6,
   "metadata": {},
   "outputs": [],
   "source": [
    "save_path = r'/Users/gustaveronteix/Documents/Projets/Projets Code/imges_test_image_analysis/imges'"
   ]
  },
  {
   "cell_type": "code",
   "execution_count": 7,
   "metadata": {},
   "outputs": [],
   "source": [
    "vs = read.VirtualStack(save_path)"
   ]
  },
  {
   "cell_type": "code",
   "execution_count": 8,
   "metadata": {
    "scrolled": true
   },
   "outputs": [
    {
     "name": "stdout",
     "output_type": "stream",
     "text": [
      "{'c': 1, 't': 310, 'm': 10, 'path': 'm10t310c1.tif', 'prefix': '/Users/gustaveronteix/Documents/Projets/Projets Code/imges_test_image_analysis/imges'}\n",
      "310\n",
      "/Users/gustaveronteix/Documents/Projets/Projets Code/imges_test_image_analysis/imges/verify segmentation/10/Spheroid Region Detection/verif_seg_m10t310.jpeg\n",
      "{'c': 1, 't': 311, 'm': 10, 'path': 'm10t311c1.tif', 'prefix': '/Users/gustaveronteix/Documents/Projets/Projets Code/imges_test_image_analysis/imges'}\n",
      "311\n",
      "/Users/gustaveronteix/Documents/Projets/Projets Code/imges_test_image_analysis/imges/verify segmentation/10/Spheroid Region Detection/verif_seg_m10t311.jpeg\n",
      "{'c': 1, 't': 312, 'm': 10, 'path': 'm10t312c1.tif', 'prefix': '/Users/gustaveronteix/Documents/Projets/Projets Code/imges_test_image_analysis/imges'}\n",
      "312\n",
      "/Users/gustaveronteix/Documents/Projets/Projets Code/imges_test_image_analysis/imges/verify segmentation/10/Spheroid Region Detection/verif_seg_m10t312.jpeg\n",
      "{'c': 1, 't': 313, 'm': 10, 'path': 'm10t313c1.tif', 'prefix': '/Users/gustaveronteix/Documents/Projets/Projets Code/imges_test_image_analysis/imges'}\n",
      "313\n",
      "/Users/gustaveronteix/Documents/Projets/Projets Code/imges_test_image_analysis/imges/verify segmentation/10/Spheroid Region Detection/verif_seg_m10t313.jpeg\n",
      "{'c': 1, 't': 314, 'm': 10, 'path': 'm10t314c1.tif', 'prefix': '/Users/gustaveronteix/Documents/Projets/Projets Code/imges_test_image_analysis/imges'}\n",
      "314\n",
      "/Users/gustaveronteix/Documents/Projets/Projets Code/imges_test_image_analysis/imges/verify segmentation/10/Spheroid Region Detection/verif_seg_m10t314.jpeg\n",
      "{'c': 1, 't': 315, 'm': 10, 'path': 'm10t315c1.tif', 'prefix': '/Users/gustaveronteix/Documents/Projets/Projets Code/imges_test_image_analysis/imges'}\n",
      "315\n",
      "/Users/gustaveronteix/Documents/Projets/Projets Code/imges_test_image_analysis/imges/verify segmentation/10/Spheroid Region Detection/verif_seg_m10t315.jpeg\n",
      "{'c': 1, 't': 316, 'm': 10, 'path': 'm10t316c1.tif', 'prefix': '/Users/gustaveronteix/Documents/Projets/Projets Code/imges_test_image_analysis/imges'}\n",
      "316\n",
      "/Users/gustaveronteix/Documents/Projets/Projets Code/imges_test_image_analysis/imges/verify segmentation/10/Spheroid Region Detection/verif_seg_m10t316.jpeg\n",
      "{'c': 1, 't': 317, 'm': 10, 'path': 'm10t317c1.tif', 'prefix': '/Users/gustaveronteix/Documents/Projets/Projets Code/imges_test_image_analysis/imges'}\n",
      "317\n",
      "/Users/gustaveronteix/Documents/Projets/Projets Code/imges_test_image_analysis/imges/verify segmentation/10/Spheroid Region Detection/verif_seg_m10t317.jpeg\n",
      "{'c': 1, 't': 318, 'm': 10, 'path': 'm10t318c1.tif', 'prefix': '/Users/gustaveronteix/Documents/Projets/Projets Code/imges_test_image_analysis/imges'}\n",
      "318\n",
      "/Users/gustaveronteix/Documents/Projets/Projets Code/imges_test_image_analysis/imges/verify segmentation/10/Spheroid Region Detection/verif_seg_m10t318.jpeg\n",
      "{'c': 1, 't': 319, 'm': 10, 'path': 'm10t319c1.tif', 'prefix': '/Users/gustaveronteix/Documents/Projets/Projets Code/imges_test_image_analysis/imges'}\n",
      "319\n",
      "/Users/gustaveronteix/Documents/Projets/Projets Code/imges_test_image_analysis/imges/verify segmentation/10/Spheroid Region Detection/verif_seg_m10t319.jpeg\n",
      "{'c': 1, 't': 320, 'm': 10, 'path': 'm10t320c1.tif', 'prefix': '/Users/gustaveronteix/Documents/Projets/Projets Code/imges_test_image_analysis/imges'}\n",
      "320\n",
      "/Users/gustaveronteix/Documents/Projets/Projets Code/imges_test_image_analysis/imges/verify segmentation/10/Spheroid Region Detection/verif_seg_m10t320.jpeg\n"
     ]
    }
   ],
   "source": [
    "df = track.get_spheroid_properties(vs,1, fluo_channel = 2, get_fluo = True, verify_seg = True)"
   ]
  },
  {
   "cell_type": "markdown",
   "metadata": {},
   "source": [
    "Once we will have extracted the cell trajectories, it will be necessary to assess the nature of the detected t-cells."
   ]
  }
 ],
 "metadata": {
  "kernelspec": {
   "display_name": "Python 3",
   "language": "python",
   "name": "python3"
  },
  "language_info": {
   "codemirror_mode": {
    "name": "ipython",
    "version": 3
   },
   "file_extension": ".py",
   "mimetype": "text/x-python",
   "name": "python",
   "nbconvert_exporter": "python",
   "pygments_lexer": "ipython3",
   "version": "3.8.1"
  }
 },
 "nbformat": 4,
 "nbformat_minor": 2
}
