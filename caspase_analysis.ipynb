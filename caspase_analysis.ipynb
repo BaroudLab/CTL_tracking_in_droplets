{
 "cells": [
  {
   "cell_type": "code",
   "execution_count": null,
   "metadata": {},
   "outputs": [],
   "source": [
    "import pandas\n",
    "import numpy as np\n",
    "import os\n",
    "from pathlib import Path\n",
    "\n",
    "from tqdm.notebook import tqdm"
   ]
  },
  {
   "cell_type": "markdown",
   "metadata": {},
   "source": [
    "## Preparing the local environment\n",
    "\n",
    "Do not forget to launch the kernel in the \"ia\" environment by typing\n",
    "\n",
    "`conda activate ia`\n",
    "\n",
    "in the terminal before launching jupyter."
   ]
  },
  {
   "cell_type": "code",
   "execution_count": null,
   "metadata": {},
   "outputs": [],
   "source": [
    "import sys\n",
    "sys.path.insert(0,os.path.join(os.getcwd(),'image-analysis'))"
   ]
  },
  {
   "cell_type": "code",
   "execution_count": null,
   "metadata": {},
   "outputs": [],
   "source": [
    "from api import read"
   ]
  },
  {
   "cell_type": "code",
   "execution_count": null,
   "metadata": {},
   "outputs": [],
   "source": [
    "from api.segment import segment\n",
    "from api.segment import verify_segmentation\n",
    "from api.analyse import analyse\n",
    "from api import track"
   ]
  },
  {
   "cell_type": "code",
   "execution_count": null,
   "metadata": {},
   "outputs": [],
   "source": [
    "import matplotlib.pyplot as plt"
   ]
  },
  {
   "cell_type": "markdown",
   "metadata": {},
   "source": [
    "## Analyze image features\n",
    "\n",
    "After loading the virtual stack object, we analyze successively the spheroid and the T-cell track properties."
   ]
  },
  {
   "cell_type": "code",
   "execution_count": null,
   "metadata": {},
   "outputs": [],
   "source": [
    "save_path = r'/Users/gustaveronteix/Documents/Projets/Projets Code/imges_test_image_analysis/imges'"
   ]
  },
  {
   "cell_type": "code",
   "execution_count": null,
   "metadata": {},
   "outputs": [],
   "source": [
    "vs = read.VirtualStack(save_path)"
   ]
  },
  {
   "cell_type": "code",
   "execution_count": null,
   "metadata": {
    "scrolled": true
   },
   "outputs": [],
   "source": [
    "spheroid_frame = track.get_spheroid_properties(vs,\n",
    "                                               spheroid_channel = 1, \n",
    "                                               fluo_channel = 3, \n",
    "                                               get_fluo = True, \n",
    "                                               verify_seg = True,\n",
    "                                               wellSizeMu = 430,\n",
    "                                               muTopx = 3)\n",
    "\n",
    "t_cell_frame = track.get_cell_tracks(vs,\n",
    "                                    fluo_channel = 2,\n",
    "                                    muTopx = 3,\n",
    "                                    search_range = 40,\n",
    "                                    minsize = 10,\n",
    "                                    minmass = 10000,\n",
    "                                    percentile = 90)"
   ]
  }
 ],
 "metadata": {
  "kernelspec": {
   "display_name": "Python 3",
   "language": "python",
   "name": "python3"
  },
  "language_info": {
   "codemirror_mode": {
    "name": "ipython",
    "version": 3
   },
   "file_extension": ".py",
   "mimetype": "text/x-python",
   "name": "python",
   "nbconvert_exporter": "python",
   "pygments_lexer": "ipython3",
   "version": "3.7.4"
  }
 },
 "nbformat": 4,
 "nbformat_minor": 2
}
